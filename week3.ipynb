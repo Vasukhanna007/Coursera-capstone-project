{
    "nbformat_minor": 1, 
    "cells": [
        {
            "execution_count": 11, 
            "cell_type": "code", 
            "metadata": {}, 
            "outputs": [
                {
                    "output_type": "stream", 
                    "name": "stdout", 
                    "text": "Solving environment: done\n\n## Package Plan ##\n\n  environment location: /opt/conda/envs/DSX-Python35\n\n  added / updated specs: \n    - beautifulsoup4\n\n\nThe following packages will be downloaded:\n\n    package                    |            build\n    ---------------------------|-----------------\n    beautifulsoup4-4.6.3       |           py35_0         140 KB\n    ca-certificates-2019.5.15  |                0         133 KB\n    ------------------------------------------------------------\n                                           Total:         273 KB\n\nThe following packages will be UPDATED:\n\n    beautifulsoup4:  4.6.0-py35h442a8c9_1 --> 4.6.3-py35_0\n    ca-certificates: 2019.1.23-0          --> 2019.5.15-0 \n\n\nDownloading and Extracting Packages\nbeautifulsoup4-4.6.3 | 140 KB    | ##################################### | 100% \nca-certificates-2019 | 133 KB    | ##################################### | 100% \nPreparing transaction: done\nVerifying transaction: done\nExecuting transaction: done\n"
                }
            ], 
            "source": "!conda install beautifulsoup4\n\n"
        }, 
        {
            "execution_count": 214, 
            "cell_type": "code", 
            "metadata": {}, 
            "outputs": [], 
            "source": "from bs4 import BeautifulSoup\n"
        }, 
        {
            "execution_count": 215, 
            "cell_type": "code", 
            "metadata": {}, 
            "outputs": [
                {
                    "output_type": "stream", 
                    "name": "stdout", 
                    "text": "Solving environment: done\n\n## Package Plan ##\n\n  environment location: /opt/conda/envs/DSX-Python35\n\n  added / updated specs: \n    - lxml\n\n\nThe following packages will be downloaded:\n\n    package                    |            build\n    ---------------------------|-----------------\n    libxml2-2.9.9              |       hea5a465_1         2.0 MB\n    lxml-4.2.5                 |   py35hefd8a0e_0         1.6 MB\n    libxslt-1.1.33             |       h7d1a2b0_0         577 KB\n    ------------------------------------------------------------\n                                           Total:         4.1 MB\n\nThe following packages will be UPDATED:\n\n    libxml2: 2.9.4-h6b072ca_5     --> 2.9.9-hea5a465_1    \n    libxslt: 1.1.29-hcf9102b_5    --> 1.1.33-h7d1a2b0_0   \n    lxml:    4.1.0-py35ha401a81_0 --> 4.2.5-py35hefd8a0e_0\n\n\nDownloading and Extracting Packages\nlibxml2-2.9.9        | 2.0 MB    | ##################################### | 100% \nlxml-4.2.5           | 1.6 MB    | ##################################### | 100% \nlibxslt-1.1.33       | 577 KB    | ##################################### | 100% \nPreparing transaction: done\nVerifying transaction: done\nExecuting transaction: done\n"
                }
            ], 
            "source": "!conda install lxml\n"
        }, 
        {
            "execution_count": 217, 
            "cell_type": "code", 
            "metadata": {}, 
            "outputs": [], 
            "source": "import requests\nurl='https://en.wikipedia.org/wiki/List_of_postal_codes_of_Canada:_M'"
        }, 
        {
            "execution_count": 218, 
            "cell_type": "code", 
            "metadata": {}, 
            "outputs": [], 
            "source": "source= requests.get(url).text"
        }, 
        {
            "execution_count": 219, 
            "cell_type": "code", 
            "metadata": {}, 
            "outputs": [], 
            "source": "soup= BeautifulSoup(source,'lxml')"
        }, 
        {
            "execution_count": 220, 
            "cell_type": "code", 
            "metadata": {}, 
            "outputs": [], 
            "source": "#print(soup.prettify())"
        }, 
        {
            "execution_count": 221, 
            "cell_type": "code", 
            "metadata": {}, 
            "outputs": [], 
            "source": "table=soup.find('table')"
        }, 
        {
            "execution_count": 222, 
            "cell_type": "code", 
            "metadata": {}, 
            "outputs": [], 
            "source": "#print(table.prettify())\nimport pandas as pd"
        }, 
        {
            "execution_count": 223, 
            "cell_type": "code", 
            "metadata": {}, 
            "outputs": [], 
            "source": "\ntables = pd.read_html(source)\n"
        }, 
        {
            "execution_count": 224, 
            "cell_type": "code", 
            "metadata": {}, 
            "outputs": [], 
            "source": "\ndf = pd.DataFrame(tables[0])\ndf.columns=['Postcode','Borough','Neighbourhood']\ndf\ndf1=df.drop(0)   "
        }, 
        {
            "execution_count": 225, 
            "cell_type": "code", 
            "metadata": {}, 
            "outputs": [
                {
                    "execution_count": 225, 
                    "metadata": {}, 
                    "data": {
                        "text/html": "<div>\n<style scoped>\n    .dataframe tbody tr th:only-of-type {\n        vertical-align: middle;\n    }\n\n    .dataframe tbody tr th {\n        vertical-align: top;\n    }\n\n    .dataframe thead th {\n        text-align: right;\n    }\n</style>\n<table border=\"1\" class=\"dataframe\">\n  <thead>\n    <tr style=\"text-align: right;\">\n      <th></th>\n      <th>Postcode</th>\n      <th>Borough</th>\n      <th>Neighbourhood</th>\n    </tr>\n  </thead>\n  <tbody>\n    <tr>\n      <th>1</th>\n      <td>M1A</td>\n      <td>Not assigned</td>\n      <td>Not assigned</td>\n    </tr>\n    <tr>\n      <th>2</th>\n      <td>M2A</td>\n      <td>Not assigned</td>\n      <td>Not assigned</td>\n    </tr>\n    <tr>\n      <th>3</th>\n      <td>M3A</td>\n      <td>North York</td>\n      <td>Parkwoods</td>\n    </tr>\n    <tr>\n      <th>4</th>\n      <td>M4A</td>\n      <td>North York</td>\n      <td>Victoria Village</td>\n    </tr>\n    <tr>\n      <th>5</th>\n      <td>M5A</td>\n      <td>Downtown Toronto</td>\n      <td>Harbourfront</td>\n    </tr>\n  </tbody>\n</table>\n</div>", 
                        "text/plain": "  Postcode           Borough     Neighbourhood\n1      M1A      Not assigned      Not assigned\n2      M2A      Not assigned      Not assigned\n3      M3A        North York         Parkwoods\n4      M4A        North York  Victoria Village\n5      M5A  Downtown Toronto      Harbourfront"
                    }, 
                    "output_type": "execute_result"
                }
            ], 
            "source": "df1.head()"
        }, 
        {
            "execution_count": 226, 
            "cell_type": "code", 
            "metadata": {}, 
            "outputs": [], 
            "source": "df1=df1[df1.Borough != 'Not assigned']\n\ndf1.head(10)\ndf_new=pd.DataFrame(df1)\ndf_new.head()\ndf2=df1.groupby(\"Postcode\").agg(lambda x:','.join(set(x)))\ndf2=df2.reset_index()"
        }, 
        {
            "execution_count": null, 
            "cell_type": "code", 
            "metadata": {}, 
            "outputs": [], 
            "source": ""
        }, 
        {
            "execution_count": 227, 
            "cell_type": "code", 
            "metadata": {}, 
            "outputs": [
                {
                    "execution_count": 227, 
                    "metadata": {}, 
                    "data": {
                        "text/plain": "(103, 3)"
                    }, 
                    "output_type": "execute_result"
                }
            ], 
            "source": "df2.shape\n"
        }, 
        {
            "execution_count": 228, 
            "cell_type": "code", 
            "metadata": {}, 
            "outputs": [
                {
                    "execution_count": 228, 
                    "metadata": {}, 
                    "data": {
                        "text/plain": "1"
                    }, 
                    "output_type": "execute_result"
                }
            ], 
            "source": "len(df2[df2['Neighbourhood'] == 'Not assigned'])"
        }, 
        {
            "execution_count": 229, 
            "cell_type": "code", 
            "metadata": {}, 
            "outputs": [
                {
                    "execution_count": 229, 
                    "metadata": {}, 
                    "data": {
                        "text/plain": "(103, 3)"
                    }, 
                    "output_type": "execute_result"
                }
            ], 
            "source": "df2.shape"
        }, 
        {
            "execution_count": null, 
            "cell_type": "code", 
            "metadata": {}, 
            "outputs": [], 
            "source": ""
        }, 
        {
            "execution_count": null, 
            "cell_type": "code", 
            "metadata": {}, 
            "outputs": [], 
            "source": ""
        }
    ], 
    "metadata": {
        "kernelspec": {
            "display_name": "Python 3.5", 
            "name": "python3", 
            "language": "python"
        }, 
        "language_info": {
            "mimetype": "text/x-python", 
            "nbconvert_exporter": "python", 
            "version": "3.5.5", 
            "name": "python", 
            "file_extension": ".py", 
            "pygments_lexer": "ipython3", 
            "codemirror_mode": {
                "version": 3, 
                "name": "ipython"
            }
        }
    }, 
    "nbformat": 4
}