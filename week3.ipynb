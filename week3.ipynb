{
    "nbformat_minor": 1, 
    "cells": [
        {
            "execution_count": 11, 
            "cell_type": "code", 
            "metadata": {}, 
            "outputs": [
                {
                    "output_type": "stream", 
                    "name": "stdout", 
                    "text": "Solving environment: done\n\n## Package Plan ##\n\n  environment location: /opt/conda/envs/DSX-Python35\n\n  added / updated specs: \n    - beautifulsoup4\n\n\nThe following packages will be downloaded:\n\n    package                    |            build\n    ---------------------------|-----------------\n    beautifulsoup4-4.6.3       |           py35_0         140 KB\n    ca-certificates-2019.5.15  |                0         133 KB\n    ------------------------------------------------------------\n                                           Total:         273 KB\n\nThe following packages will be UPDATED:\n\n    beautifulsoup4:  4.6.0-py35h442a8c9_1 --> 4.6.3-py35_0\n    ca-certificates: 2019.1.23-0          --> 2019.5.15-0 \n\n\nDownloading and Extracting Packages\nbeautifulsoup4-4.6.3 | 140 KB    | ##################################### | 100% \nca-certificates-2019 | 133 KB    | ##################################### | 100% \nPreparing transaction: done\nVerifying transaction: done\nExecuting transaction: done\n"
                }
            ], 
            "source": "!conda install beautifulsoup4\n\n"
        }, 
        {
            "execution_count": null, 
            "cell_type": "code", 
            "metadata": {}, 
            "outputs": [], 
            "source": ""
        }, 
        {
            "execution_count": 12, 
            "cell_type": "code", 
            "metadata": {}, 
            "outputs": [], 
            "source": "from bs4 import BeautifulSoup\n"
        }, 
        {
            "execution_count": 10, 
            "cell_type": "code", 
            "metadata": {}, 
            "outputs": [
                {
                    "output_type": "stream", 
                    "name": "stdout", 
                    "text": "Solving environment: done\n\n## Package Plan ##\n\n  environment location: /opt/conda/envs/DSX-Python35\n\n  added / updated specs: \n    - lxml\n\n\nThe following packages will be downloaded:\n\n    package                    |            build\n    ---------------------------|-----------------\n    libxml2-2.9.9              |       hea5a465_1         2.0 MB\n    libxslt-1.1.33             |       h7d1a2b0_0         577 KB\n    lxml-4.2.5                 |   py35hefd8a0e_0         1.6 MB\n    ------------------------------------------------------------\n                                           Total:         4.1 MB\n\nThe following packages will be UPDATED:\n\n    libxml2: 2.9.4-h6b072ca_5     --> 2.9.9-hea5a465_1    \n    libxslt: 1.1.29-hcf9102b_5    --> 1.1.33-h7d1a2b0_0   \n    lxml:    4.1.0-py35ha401a81_0 --> 4.2.5-py35hefd8a0e_0\n\n\nDownloading and Extracting Packages\nlibxml2-2.9.9        | 2.0 MB    | ##################################### | 100% \nlibxslt-1.1.33       | 577 KB    | ##################################### | 100% \nlxml-4.2.5           | 1.6 MB    | ##################################### | 100% \nPreparing transaction: done\nVerifying transaction: done\nExecuting transaction: done\n"
                }
            ], 
            "source": "!conda install lxml\n"
        }, 
        {
            "source": "#### imported beautiful soup ", 
            "cell_type": "markdown", 
            "metadata": {}
        }, 
        {
            "execution_count": 89, 
            "cell_type": "code", 
            "metadata": {}, 
            "outputs": [], 
            "source": "import requests\nurl='https://en.wikipedia.org/wiki/List_of_postal_codes_of_Canada:_M'"
        }, 
        {
            "execution_count": 165, 
            "cell_type": "code", 
            "metadata": {}, 
            "outputs": [], 
            "source": "source= requests.get(url).text"
        }, 
        {
            "execution_count": 166, 
            "cell_type": "code", 
            "metadata": {}, 
            "outputs": [], 
            "source": "soup= BeautifulSoup(source,'lxml')"
        }, 
        {
            "execution_count": 167, 
            "cell_type": "code", 
            "metadata": {}, 
            "outputs": [], 
            "source": "#print(soup.prettify())"
        }, 
        {
            "execution_count": 168, 
            "cell_type": "code", 
            "metadata": {}, 
            "outputs": [], 
            "source": "table=soup.find('table')"
        }, 
        {
            "execution_count": 169, 
            "cell_type": "code", 
            "metadata": {}, 
            "outputs": [], 
            "source": "#print(table.prettify())\nimport pandas as pd"
        }, 
        {
            "execution_count": 202, 
            "cell_type": "code", 
            "metadata": {}, 
            "outputs": [
                {
                    "execution_count": 202, 
                    "metadata": {}, 
                    "data": {
                        "text/plain": "[            0                 1  \\\n 0    Postcode           Borough   \n 1         M1A      Not assigned   \n 2         M2A      Not assigned   \n 3         M3A        North York   \n 4         M4A        North York   \n 5         M5A  Downtown Toronto   \n 6         M5A  Downtown Toronto   \n 7         M6A        North York   \n 8         M6A        North York   \n 9         M7A      Queen's Park   \n 10        M8A      Not assigned   \n 11        M9A         Etobicoke   \n 12        M1B       Scarborough   \n 13        M1B       Scarborough   \n 14        M2B      Not assigned   \n 15        M3B        North York   \n 16        M4B         East York   \n 17        M4B         East York   \n 18        M5B  Downtown Toronto   \n 19        M5B  Downtown Toronto   \n 20        M6B        North York   \n 21        M7B      Not assigned   \n 22        M8B      Not assigned   \n 23        M9B         Etobicoke   \n 24        M9B         Etobicoke   \n 25        M9B         Etobicoke   \n 26        M9B         Etobicoke   \n 27        M9B         Etobicoke   \n 28        M1C       Scarborough   \n 29        M1C       Scarborough   \n ..        ...               ...   \n 259       M9X      Not assigned   \n 260       M1Y      Not assigned   \n 261       M2Y      Not assigned   \n 262       M3Y      Not assigned   \n 263       M4Y  Downtown Toronto   \n 264       M5Y      Not assigned   \n 265       M6Y      Not assigned   \n 266       M7Y      East Toronto   \n 267       M8Y         Etobicoke   \n 268       M8Y         Etobicoke   \n 269       M8Y         Etobicoke   \n 270       M8Y         Etobicoke   \n 271       M8Y         Etobicoke   \n 272       M8Y         Etobicoke   \n 273       M8Y         Etobicoke   \n 274       M8Y         Etobicoke   \n 275       M9Y      Not assigned   \n 276       M1Z      Not assigned   \n 277       M2Z      Not assigned   \n 278       M3Z      Not assigned   \n 279       M4Z      Not assigned   \n 280       M5Z      Not assigned   \n 281       M6Z      Not assigned   \n 282       M7Z      Not assigned   \n 283       M8Z         Etobicoke   \n 284       M8Z         Etobicoke   \n 285       M8Z         Etobicoke   \n 286       M8Z         Etobicoke   \n 287       M8Z         Etobicoke   \n 288       M9Z      Not assigned   \n \n                                                      2  \n 0                                        Neighbourhood  \n 1                                         Not assigned  \n 2                                         Not assigned  \n 3                                            Parkwoods  \n 4                                     Victoria Village  \n 5                                         Harbourfront  \n 6                                          Regent Park  \n 7                                     Lawrence Heights  \n 8                                       Lawrence Manor  \n 9                                         Not assigned  \n 10                                        Not assigned  \n 11                                    Islington Avenue  \n 12                                               Rouge  \n 13                                             Malvern  \n 14                                        Not assigned  \n 15                                     Don Mills North  \n 16                                    Woodbine Gardens  \n 17                                       Parkview Hill  \n 18                                             Ryerson  \n 19                                     Garden District  \n 20                                           Glencairn  \n 21                                        Not assigned  \n 22                                        Not assigned  \n 23                                          Cloverdale  \n 24                                           Islington  \n 25                                        Martin Grove  \n 26                                    Princess Gardens  \n 27                                     West Deane Park  \n 28                                      Highland Creek  \n 29                                          Rouge Hill  \n ..                                                 ...  \n 259                                       Not assigned  \n 260                                       Not assigned  \n 261                                       Not assigned  \n 262                                       Not assigned  \n 263                               Church and Wellesley  \n 264                                       Not assigned  \n 265                                       Not assigned  \n 266  Business Reply Mail Processing Centre 969 Eastern  \n 267                                         Humber Bay  \n 268                                   King's Mill Park  \n 269                           Kingsway Park South East  \n 270                                          Mimico NE  \n 271                                     Old Mill South  \n 272                                 The Queensway East  \n 273                              Royal York South East  \n 274                                           Sunnylea  \n 275                                       Not assigned  \n 276                                       Not assigned  \n 277                                       Not assigned  \n 278                                       Not assigned  \n 279                                       Not assigned  \n 280                                       Not assigned  \n 281                                       Not assigned  \n 282                                       Not assigned  \n 283                           Kingsway Park South West  \n 284                                          Mimico NW  \n 285                                 The Queensway West  \n 286                              Royal York South West  \n 287                                     South of Bloor  \n 288                                       Not assigned  \n \n [289 rows x 3 columns],\n                                                   0                      1   \\\n 0                                                NaN  Canadian postal codes   \n 1  NL NS PE NB QC ON MB SK AB BC NU/NT YT A B C E...                     NL   \n 2                                                 NL                     NS   \n 3                                                  A                      B   \n \n     2    3    4    5    6    7    8    9  ...    21   22   23   24   25   26  \\\n 0  NaN  NaN  NaN  NaN  NaN  NaN  NaN  NaN ...   NaN  NaN  NaN  NaN  NaN  NaN   \n 1   NS   PE   NB   QC   ON   MB   SK   AB ...     L    M    N    P    R    S   \n 2   PE   NB   QC   ON   MB   SK   AB   BC ...   NaN  NaN  NaN  NaN  NaN  NaN   \n 3    C    E    G    H    J    K    L    M ...   NaN  NaN  NaN  NaN  NaN  NaN   \n \n     27   28   29   30  \n 0  NaN  NaN  NaN  NaN  \n 1    T    V    X    Y  \n 2  NaN  NaN  NaN  NaN  \n 3  NaN  NaN  NaN  NaN  \n \n [4 rows x 31 columns],\n    0   1   2   3   4   5   6   7   8   9      10  11   12   13   14   15   16  \\\n 0  NL  NS  PE  NB  QC  ON  MB  SK  AB  BC  NU/NT  YT  NaN  NaN  NaN  NaN  NaN   \n 1   A   B   C   E   G   H   J   K   L   M      N   P    R    S    T    V    X   \n \n     17  \n 0  NaN  \n 1    Y  ]"
                    }, 
                    "output_type": "execute_result"
                }
            ], 
            "source": "#reading using read_html func of pandas\ntables = pd.read_html(source)\n"
        }, 
        {
            "execution_count": 172, 
            "cell_type": "code", 
            "metadata": {}, 
            "outputs": [], 
            "source": "#converting in dataframe\ndf = pd.DataFrame(tables[0])\ndf.columns=['Postcode','Borough','Neighbourhood']\ndf\ndf1=df.drop(0)   "
        }, 
        {
            "execution_count": 173, 
            "cell_type": "code", 
            "metadata": {}, 
            "outputs": [
                {
                    "execution_count": 173, 
                    "metadata": {}, 
                    "data": {
                        "text/html": "<div>\n<style scoped>\n    .dataframe tbody tr th:only-of-type {\n        vertical-align: middle;\n    }\n\n    .dataframe tbody tr th {\n        vertical-align: top;\n    }\n\n    .dataframe thead th {\n        text-align: right;\n    }\n</style>\n<table border=\"1\" class=\"dataframe\">\n  <thead>\n    <tr style=\"text-align: right;\">\n      <th></th>\n      <th>Postcode</th>\n      <th>Borough</th>\n      <th>Neighbourhood</th>\n    </tr>\n  </thead>\n  <tbody>\n    <tr>\n      <th>1</th>\n      <td>M1A</td>\n      <td>Not assigned</td>\n      <td>Not assigned</td>\n    </tr>\n    <tr>\n      <th>2</th>\n      <td>M2A</td>\n      <td>Not assigned</td>\n      <td>Not assigned</td>\n    </tr>\n    <tr>\n      <th>3</th>\n      <td>M3A</td>\n      <td>North York</td>\n      <td>Parkwoods</td>\n    </tr>\n    <tr>\n      <th>4</th>\n      <td>M4A</td>\n      <td>North York</td>\n      <td>Victoria Village</td>\n    </tr>\n    <tr>\n      <th>5</th>\n      <td>M5A</td>\n      <td>Downtown Toronto</td>\n      <td>Harbourfront</td>\n    </tr>\n  </tbody>\n</table>\n</div>", 
                        "text/plain": "  Postcode           Borough     Neighbourhood\n1      M1A      Not assigned      Not assigned\n2      M2A      Not assigned      Not assigned\n3      M3A        North York         Parkwoods\n4      M4A        North York  Victoria Village\n5      M5A  Downtown Toronto      Harbourfront"
                    }, 
                    "output_type": "execute_result"
                }
            ], 
            "source": "df1.head()"
        }, 
        {
            "source": "### removing not assigend from boroughs and grouping them with common postcode also writing neighborhood", 
            "cell_type": "markdown", 
            "metadata": {}
        }, 
        {
            "execution_count": 203, 
            "cell_type": "code", 
            "metadata": {}, 
            "outputs": [], 
            "source": "df1=df1[df1.Borough != 'Not assigned']\n\ndf1.head(10)\ndf_new=pd.DataFrame(df1)\ndf_new.head()\ndf2=df1.groupby(\"Postcode\").agg(lambda x:','.join(set(x)))\ndf2=df2.reset_index()"
        }, 
        {
            "execution_count": 200, 
            "cell_type": "code", 
            "metadata": {}, 
            "outputs": [
                {
                    "execution_count": 200, 
                    "metadata": {}, 
                    "data": {
                        "text/plain": "0"
                    }, 
                    "output_type": "execute_result"
                }
            ], 
            "source": "#checking if there is any Not assigned value which is undesirable in neighborhood\nlen(df2[df2['Neighbourhood'] == 'Not assigned'])"
        }, 
        {
            "execution_count": 201, 
            "cell_type": "code", 
            "metadata": {}, 
            "outputs": [
                {
                    "execution_count": 201, 
                    "metadata": {}, 
                    "data": {
                        "text/plain": "(103, 3)"
                    }, 
                    "output_type": "execute_result"
                }
            ], 
            "source": "df2.shape"
        }, 
        {
            "execution_count": null, 
            "cell_type": "code", 
            "metadata": {}, 
            "outputs": [], 
            "source": ""
        }, 
        {
            "execution_count": null, 
            "cell_type": "code", 
            "metadata": {}, 
            "outputs": [], 
            "source": ""
        }
    ], 
    "metadata": {
        "kernelspec": {
            "display_name": "Python 3.5", 
            "name": "python3", 
            "language": "python"
        }, 
        "language_info": {
            "mimetype": "text/x-python", 
            "nbconvert_exporter": "python", 
            "version": "3.5.5", 
            "name": "python", 
            "file_extension": ".py", 
            "pygments_lexer": "ipython3", 
            "codemirror_mode": {
                "version": 3, 
                "name": "ipython"
            }
        }
    }, 
    "nbformat": 4
}