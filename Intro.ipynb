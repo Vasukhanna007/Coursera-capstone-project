{
    "nbformat_minor": 1, 
    "cells": [
        {
            "source": "# Introduction,Target Audience and Problem to solve", 
            "cell_type": "markdown", 
            "metadata": {
                "collapsed": true
            }
        }, 
        {
            "source": "###   This targets the businessman who are willing to invest in the food business. It will provide them sufficient numbers and tell them what kind of cuisines are popular in a particular area based on the  foresquare data.  It can also help people to open franchises based on their popularity. It can Show businessmen what cuisines should they focus on if they are to open at a particular place . It can also help the owner in thinking of marketing, the cuisines popular in that area. Or it can maybe tell what cuisine markets have more competition.", 
            "cell_type": "markdown", 
            "metadata": {}
        }, 
        {
            "source": "# Data", 
            "cell_type": "markdown", 
            "metadata": {}
        }, 
        {
            "source": "### Data  is used from Foursquare Api (to get the famous restaurants of a city and their cuisines ) and kaggle (https://www.kaggle.com/mahbubrob/usa-cities#usa_cities.csv) used to get cities in America\n", 
            "cell_type": "markdown", 
            "metadata": {}
        }, 
        {
            "execution_count": null, 
            "cell_type": "code", 
            "metadata": {}, 
            "outputs": [], 
            "source": ""
        }, 
        {
            "execution_count": null, 
            "cell_type": "code", 
            "metadata": {}, 
            "outputs": [], 
            "source": ""
        }
    ], 
    "metadata": {
        "kernelspec": {
            "display_name": "Python 3.6", 
            "name": "python3", 
            "language": "python"
        }, 
        "language_info": {
            "mimetype": "text/x-python", 
            "nbconvert_exporter": "python", 
            "version": "3.6.8", 
            "name": "python", 
            "file_extension": ".py", 
            "pygments_lexer": "ipython3", 
            "codemirror_mode": {
                "version": 3, 
                "name": "ipython"
            }
        }
    }, 
    "nbformat": 4
}